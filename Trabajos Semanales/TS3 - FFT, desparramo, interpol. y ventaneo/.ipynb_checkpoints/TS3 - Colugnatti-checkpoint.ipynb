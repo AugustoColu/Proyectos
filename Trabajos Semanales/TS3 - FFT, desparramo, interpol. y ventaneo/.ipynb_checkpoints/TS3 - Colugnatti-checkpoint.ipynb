{
 "cells": [
  {
   "cell_type": "markdown",
   "id": "55ca53c3-e87b-4158-9688-6f81c4734d9c",
   "metadata": {},
   "source": [
    "#### Análisis y Procesamiento de Señales\n",
    "\n",
    "# Tarea Semanal N°3\n",
    "## *FFT, desparramo, interpolación y ventaneo*\n",
    "\n",
    "#### Augusto Colugnatti"
   ]
  },
  {
   "cell_type": "markdown",
   "id": "320d3ea4-d699-489f-8aa6-ec9aa14bb853",
   "metadata": {},
   "source": [
    "## Introducción teórica\n"
   ]
  },
  {
   "cell_type": "markdown",
   "id": "2b0b71ad-ce01-4ec3-9692-d56beaff5de4",
   "metadata": {},
   "source": [
    "## Desarrollo\n",
    "#### *Definiciones y preparación del entorno*"
   ]
  },
  {
   "cell_type": "code",
   "execution_count": null,
   "id": "f35c9856-6dee-418d-8b3c-641a23f87a2c",
   "metadata": {},
   "outputs": [],
   "source": []
  },
  {
   "cell_type": "markdown",
   "id": "7c75b53e-61bb-44a7-8584-65932ea74ca3",
   "metadata": {},
   "source": [
    "#### 1)"
   ]
  },
  {
   "cell_type": "code",
   "execution_count": null,
   "id": "fb511b0d-d16b-4daa-ae60-7c9a35033eb8",
   "metadata": {},
   "outputs": [],
   "source": []
  },
  {
   "cell_type": "code",
   "execution_count": null,
   "id": "86643eeb-76e4-4a05-b2d2-5d053540fc31",
   "metadata": {},
   "outputs": [],
   "source": []
  },
  {
   "cell_type": "code",
   "execution_count": null,
   "id": "05de9167-7c28-4279-8c33-680ad5d7ef2d",
   "metadata": {},
   "outputs": [],
   "source": []
  },
  {
   "cell_type": "code",
   "execution_count": null,
   "id": "27c9c6ec-5497-45aa-b42c-65c0be2d6a99",
   "metadata": {},
   "outputs": [],
   "source": []
  },
  {
   "cell_type": "code",
   "execution_count": null,
   "id": "54c605cb-6c3a-4336-b333-b9da945b7eac",
   "metadata": {},
   "outputs": [],
   "source": []
  },
  {
   "cell_type": "code",
   "execution_count": null,
   "id": "f0ced288-8532-4ed8-b72c-0f912f0b00ca",
   "metadata": {},
   "outputs": [],
   "source": []
  },
  {
   "cell_type": "code",
   "execution_count": null,
   "id": "e39e60f6-e19e-4568-9655-a4ad74add09e",
   "metadata": {},
   "outputs": [],
   "source": []
  },
  {
   "cell_type": "markdown",
   "id": "af92ac86-0766-42b3-825c-d8cd872c1599",
   "metadata": {},
   "source": [
    "#### 2)"
   ]
  },
  {
   "cell_type": "code",
   "execution_count": null,
   "id": "28283fd7-ffda-4482-aabc-1932cd8c5685",
   "metadata": {},
   "outputs": [],
   "source": []
  },
  {
   "cell_type": "markdown",
   "id": "59909df1-9853-4e87-8790-4ca5cac02414",
   "metadata": {},
   "source": [
    "## Conclusiones\n",
    "\n",
    "\n",
    "## Autoevaluación del aprendizaje\n"
   ]
  },
  {
   "cell_type": "code",
   "execution_count": null,
   "id": "abfb42f2-0fdc-48d2-8b3c-975b5b85553e",
   "metadata": {},
   "outputs": [],
   "source": []
  }
 ],
 "metadata": {
  "kernelspec": {
   "display_name": "Python 3 (ipykernel)",
   "language": "python",
   "name": "python3"
  },
  "language_info": {
   "codemirror_mode": {
    "name": "ipython",
    "version": 3
   },
   "file_extension": ".py",
   "mimetype": "text/x-python",
   "name": "python",
   "nbconvert_exporter": "python",
   "pygments_lexer": "ipython3",
   "version": "3.13.2"
  }
 },
 "nbformat": 4,
 "nbformat_minor": 5
}
