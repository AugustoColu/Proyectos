{
 "cells": [
  {
   "cell_type": "markdown",
   "id": "37bac28f-90ba-44f4-9f50-7c75fdb4562d",
   "metadata": {},
   "source": [
    "# **Trabajo Semanal N°0**\n",
    "## Primero pasos en la simulación"
   ]
  },
  {
   "cell_type": "code",
   "execution_count": null,
   "id": "aa8178b9-35c6-440d-8bab-2ce8a7a1ceeb",
   "metadata": {},
   "outputs": [],
   "source": []
  }
 ],
 "metadata": {
  "kernelspec": {
   "display_name": "Python 3 (ipykernel)",
   "language": "python",
   "name": "python3"
  },
  "language_info": {
   "codemirror_mode": {
    "name": "ipython",
    "version": 3
   },
   "file_extension": ".py",
   "mimetype": "text/x-python",
   "name": "python",
   "nbconvert_exporter": "python",
   "pygments_lexer": "ipython3",
   "version": "3.13.2"
  }
 },
 "nbformat": 4,
 "nbformat_minor": 5
}
